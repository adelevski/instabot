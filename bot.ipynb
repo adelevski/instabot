{
 "cells": [
  {
   "cell_type": "code",
   "execution_count": 1,
   "source": [
    "from selenium import webdriver\r\n",
    "from selenium.webdriver.common.keys import Keys\r\n",
    "import time\r\n",
    "import config"
   ],
   "outputs": [],
   "metadata": {}
  },
  {
   "cell_type": "code",
   "execution_count": 6,
   "source": [
    "class InstaBot:\r\n",
    "    def __init__(self):\r\n",
    "        self.username = config.USERNAME\r\n",
    "        self.password = config.PASSWORD\r\n",
    "        self.bot = webdriver.Chrome(executable_path=config.CHROMEDRIVER_PATH)\r\n",
    "\r\n",
    "    def login(self):\r\n",
    "        self.bot.get('https://instagram.com/accounts/login')\r\n",
    "        time.sleep(3)\r\n",
    "        self.bot.find_element_by_name('username').send_keys(self.username)\r\n",
    "        self.bot.find_element_by_name('password').send_keys(self.password + Keys.RETURN)\r\n",
    "        time.sleep(3)\r\n",
    "\r\n",
    "    \r\n",
    "\r\n"
   ],
   "outputs": [],
   "metadata": {}
  },
  {
   "cell_type": "code",
   "execution_count": 7,
   "source": [
    "instabot = InstaBot()\r\n",
    "instabot.login()"
   ],
   "outputs": [],
   "metadata": {}
  },
  {
   "cell_type": "code",
   "execution_count": null,
   "source": [],
   "outputs": [],
   "metadata": {}
  }
 ],
 "metadata": {
  "orig_nbformat": 4,
  "language_info": {
   "name": "python",
   "version": "3.8.7",
   "mimetype": "text/x-python",
   "codemirror_mode": {
    "name": "ipython",
    "version": 3
   },
   "pygments_lexer": "ipython3",
   "nbconvert_exporter": "python",
   "file_extension": ".py"
  },
  "kernelspec": {
   "name": "python3",
   "display_name": "Python 3.8.7 64-bit ('venv': venv)"
  },
  "interpreter": {
   "hash": "ce2c183f7db519284649ac6530af45783880bc2f6897302e170ef3e505a39276"
  }
 },
 "nbformat": 4,
 "nbformat_minor": 2
}